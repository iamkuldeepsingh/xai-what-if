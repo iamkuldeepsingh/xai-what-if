{
 "cells": [
  {
   "cell_type": "code",
   "execution_count": 1,
   "metadata": {},
   "outputs": [],
   "source": [
    "# Ensure AI Platform API is enabled and sklearn package version installed is '0.20.2'\n",
    "# !sudo pip uninstall -y scikit-learn\n",
    "# ! pip install scikit-learn==0.20.2"
   ]
  },
  {
   "cell_type": "code",
   "execution_count": 2,
   "metadata": {},
   "outputs": [
    {
     "name": "stdout",
     "output_type": "stream",
     "text": [
      "0.20.2\n"
     ]
    }
   ],
   "source": [
    "import sklearn\n",
    "print(sklearn.__version__)"
   ]
  },
  {
   "cell_type": "code",
   "execution_count": 3,
   "metadata": {},
   "outputs": [
    {
     "name": "stdout",
     "output_type": "stream",
     "text": [
      "1.15.2\n"
     ]
    }
   ],
   "source": [
    "#Import the required libraries\n",
    "import pandas as pd\n",
    "import numpy as np\n",
    "import tensorflow as tf\n",
    "import witwidget\n",
    "import os\n",
    "import pickle\n",
    "\n",
    "from tensorflow.keras.layers import Dense\n",
    "from tensorflow.keras.models import Sequential\n",
    "\n",
    "from sklearn.utils import shuffle\n",
    "from sklearn.linear_model import LinearRegression\n",
    "from witwidget.notebook.visualization import WitWidget, WitConfigBuilder\n",
    "\n",
    "print(tf.__version__)"
   ]
  },
  {
   "cell_type": "code",
   "execution_count": 4,
   "metadata": {},
   "outputs": [
    {
     "name": "stdout",
     "output_type": "stream",
     "text": [
      "--2020-02-15 06:17:48--  http://archive.ics.uci.edu/ml/machine-learning-databases/wine-quality/winequality-white.csv\n",
      "Resolving archive.ics.uci.edu (archive.ics.uci.edu)... 128.195.10.252\n",
      "Connecting to archive.ics.uci.edu (archive.ics.uci.edu)|128.195.10.252|:80... connected.\n",
      "HTTP request sent, awaiting response... 200 OK\n",
      "Length: 264426 (258K) [application/x-httpd-php]\n",
      "Saving to: ‘winequality-white.csv.1’\n",
      "\n",
      "winequality-white.c 100%[===================>] 258.23K  --.-KB/s    in 0.1s    \n",
      "\n",
      "2020-02-15 06:17:49 (1.99 MB/s) - ‘winequality-white.csv.1’ saved [264426/264426]\n",
      "\n"
     ]
    }
   ],
   "source": [
    "!wget 'http://archive.ics.uci.edu/ml/machine-learning-databases/wine-quality/winequality-white.csv'"
   ]
  },
  {
   "cell_type": "code",
   "execution_count": 5,
   "metadata": {},
   "outputs": [
    {
     "data": {
      "text/html": [
       "<div>\n",
       "<style scoped>\n",
       "    .dataframe tbody tr th:only-of-type {\n",
       "        vertical-align: middle;\n",
       "    }\n",
       "\n",
       "    .dataframe tbody tr th {\n",
       "        vertical-align: top;\n",
       "    }\n",
       "\n",
       "    .dataframe thead th {\n",
       "        text-align: right;\n",
       "    }\n",
       "</style>\n",
       "<table border=\"1\" class=\"dataframe\">\n",
       "  <thead>\n",
       "    <tr style=\"text-align: right;\">\n",
       "      <th></th>\n",
       "      <th>fixed acidity</th>\n",
       "      <th>volatile acidity</th>\n",
       "      <th>citric acid</th>\n",
       "      <th>residual sugar</th>\n",
       "      <th>chlorides</th>\n",
       "      <th>free sulfur dioxide</th>\n",
       "      <th>total sulfur dioxide</th>\n",
       "      <th>density</th>\n",
       "      <th>pH</th>\n",
       "      <th>sulphates</th>\n",
       "      <th>alcohol</th>\n",
       "      <th>quality</th>\n",
       "    </tr>\n",
       "  </thead>\n",
       "  <tbody>\n",
       "    <tr>\n",
       "      <th>3545</th>\n",
       "      <td>7.3</td>\n",
       "      <td>0.20</td>\n",
       "      <td>0.29</td>\n",
       "      <td>19.50</td>\n",
       "      <td>0.039</td>\n",
       "      <td>69.0</td>\n",
       "      <td>237.0</td>\n",
       "      <td>1.00037</td>\n",
       "      <td>3.10</td>\n",
       "      <td>0.48</td>\n",
       "      <td>9.2</td>\n",
       "      <td>6</td>\n",
       "    </tr>\n",
       "    <tr>\n",
       "      <th>2460</th>\n",
       "      <td>6.6</td>\n",
       "      <td>0.33</td>\n",
       "      <td>0.24</td>\n",
       "      <td>16.05</td>\n",
       "      <td>0.045</td>\n",
       "      <td>31.0</td>\n",
       "      <td>147.0</td>\n",
       "      <td>0.99822</td>\n",
       "      <td>3.08</td>\n",
       "      <td>0.52</td>\n",
       "      <td>9.2</td>\n",
       "      <td>5</td>\n",
       "    </tr>\n",
       "    <tr>\n",
       "      <th>3855</th>\n",
       "      <td>5.9</td>\n",
       "      <td>0.18</td>\n",
       "      <td>0.29</td>\n",
       "      <td>4.60</td>\n",
       "      <td>0.032</td>\n",
       "      <td>68.0</td>\n",
       "      <td>137.0</td>\n",
       "      <td>0.99159</td>\n",
       "      <td>3.21</td>\n",
       "      <td>0.38</td>\n",
       "      <td>11.3</td>\n",
       "      <td>6</td>\n",
       "    </tr>\n",
       "    <tr>\n",
       "      <th>3427</th>\n",
       "      <td>5.8</td>\n",
       "      <td>0.24</td>\n",
       "      <td>0.26</td>\n",
       "      <td>10.05</td>\n",
       "      <td>0.039</td>\n",
       "      <td>63.0</td>\n",
       "      <td>162.0</td>\n",
       "      <td>0.99375</td>\n",
       "      <td>3.33</td>\n",
       "      <td>0.50</td>\n",
       "      <td>11.2</td>\n",
       "      <td>6</td>\n",
       "    </tr>\n",
       "    <tr>\n",
       "      <th>2033</th>\n",
       "      <td>7.2</td>\n",
       "      <td>0.23</td>\n",
       "      <td>0.33</td>\n",
       "      <td>12.70</td>\n",
       "      <td>0.049</td>\n",
       "      <td>50.0</td>\n",
       "      <td>183.0</td>\n",
       "      <td>0.99870</td>\n",
       "      <td>3.41</td>\n",
       "      <td>0.40</td>\n",
       "      <td>9.8</td>\n",
       "      <td>5</td>\n",
       "    </tr>\n",
       "  </tbody>\n",
       "</table>\n",
       "</div>"
      ],
      "text/plain": [
       "      fixed acidity  volatile acidity  citric acid  residual sugar  chlorides  \\\n",
       "3545            7.3              0.20         0.29           19.50      0.039   \n",
       "2460            6.6              0.33         0.24           16.05      0.045   \n",
       "3855            5.9              0.18         0.29            4.60      0.032   \n",
       "3427            5.8              0.24         0.26           10.05      0.039   \n",
       "2033            7.2              0.23         0.33           12.70      0.049   \n",
       "\n",
       "      free sulfur dioxide  total sulfur dioxide  density    pH  sulphates  \\\n",
       "3545                 69.0                 237.0  1.00037  3.10       0.48   \n",
       "2460                 31.0                 147.0  0.99822  3.08       0.52   \n",
       "3855                 68.0                 137.0  0.99159  3.21       0.38   \n",
       "3427                 63.0                 162.0  0.99375  3.33       0.50   \n",
       "2033                 50.0                 183.0  0.99870  3.41       0.40   \n",
       "\n",
       "      alcohol  quality  \n",
       "3545      9.2        6  \n",
       "2460      9.2        5  \n",
       "3855     11.3        6  \n",
       "3427     11.2        6  \n",
       "2033      9.8        5  "
      ]
     },
     "execution_count": 5,
     "metadata": {},
     "output_type": "execute_result"
    }
   ],
   "source": [
    "# Create Dataframes\n",
    "data = pd.read_csv('winequality-white.csv', index_col=False, delimiter=';')\n",
    "data = shuffle(data, random_state=4)\n",
    "\n",
    "data.head()"
   ]
  },
  {
   "cell_type": "code",
   "execution_count": 6,
   "metadata": {},
   "outputs": [
    {
     "name": "stdout",
     "output_type": "stream",
     "text": [
      "6    2198\n",
      "5    1457\n",
      "7     880\n",
      "8     175\n",
      "4     163\n",
      "3      20\n",
      "9       5\n",
      "Name: quality, dtype: int64\n"
     ]
    }
   ],
   "source": [
    "labels = data['quality']\n",
    "print(labels.value_counts())"
   ]
  },
  {
   "cell_type": "code",
   "execution_count": 7,
   "metadata": {},
   "outputs": [],
   "source": [
    "# Train Test Split\n",
    "data = data.drop(columns=['quality'])\n",
    "\n",
    "train_size = int(len(data) * 0.8)\n",
    "train_data = data[:train_size]\n",
    "train_labels = labels[:train_size]\n",
    "\n",
    "test_data = data[train_size:]\n",
    "test_labels = labels[train_size:]"
   ]
  },
  {
   "cell_type": "code",
   "execution_count": 8,
   "metadata": {},
   "outputs": [
    {
     "name": "stdout",
     "output_type": "stream",
     "text": [
      "11\n",
      "WARNING:tensorflow:From /usr/local/lib/python3.5/dist-packages/tensorflow_core/python/ops/resource_variable_ops.py:1630: calling BaseResourceVariable.__init__ (from tensorflow.python.ops.resource_variable_ops) with constraint is deprecated and will be removed in a future version.\n",
      "Instructions for updating:\n",
      "If using Keras pass *_constraint arguments to layers.\n"
     ]
    }
   ],
   "source": [
    "# Build TF Model\n",
    "input_size = len(train_data.iloc[0])\n",
    "print(input_size)\n",
    "\n",
    "model = Sequential()\n",
    "model.add(Dense(200, input_shape=(input_size,), activation='relu'))\n",
    "model.add(Dense(50, activation='relu'))\n",
    "model.add(Dense(25, activation='relu'))\n",
    "model.add(Dense(1))\n",
    "\n",
    "model.compile(loss='mean_squared_error', optimizer='adam', metrics=['accuracy'])"
   ]
  },
  {
   "cell_type": "code",
   "execution_count": 9,
   "metadata": {},
   "outputs": [
    {
     "name": "stdout",
     "output_type": "stream",
     "text": [
      "Model: \"sequential\"\n",
      "_________________________________________________________________\n",
      "Layer (type)                 Output Shape              Param #   \n",
      "=================================================================\n",
      "dense (Dense)                (None, 200)               2400      \n",
      "_________________________________________________________________\n",
      "dense_1 (Dense)              (None, 50)                10050     \n",
      "_________________________________________________________________\n",
      "dense_2 (Dense)              (None, 25)                1275      \n",
      "_________________________________________________________________\n",
      "dense_3 (Dense)              (None, 1)                 26        \n",
      "=================================================================\n",
      "Total params: 13,751\n",
      "Trainable params: 13,751\n",
      "Non-trainable params: 0\n",
      "_________________________________________________________________\n"
     ]
    }
   ],
   "source": [
    "model.summary()"
   ]
  },
  {
   "cell_type": "code",
   "execution_count": 10,
   "metadata": {},
   "outputs": [
    {
     "name": "stdout",
     "output_type": "stream",
     "text": [
      "Train on 3526 samples, validate on 392 samples\n",
      "Epoch 1/4\n",
      "3526/3526 [==============================] - 2s 632us/sample - loss: 1.7950 - acc: 0.0000e+00 - val_loss: 0.9866 - val_acc: 0.0000e+00\n",
      "Epoch 2/4\n",
      "3526/3526 [==============================] - 1s 269us/sample - loss: 0.7033 - acc: 0.0000e+00 - val_loss: 1.0850 - val_acc: 0.0000e+00\n",
      "Epoch 3/4\n",
      "3526/3526 [==============================] - 1s 200us/sample - loss: 0.7020 - acc: 0.0000e+00 - val_loss: 0.9721 - val_acc: 0.0000e+00\n",
      "Epoch 4/4\n",
      "3526/3526 [==============================] - 1s 257us/sample - loss: 0.6731 - acc: 0.0000e+00 - val_loss: 1.1475 - val_acc: 0.0000e+00\n"
     ]
    },
    {
     "data": {
      "text/plain": [
       "<tensorflow.python.keras.callbacks.History at 0x7faf41f4e0b8>"
      ]
     },
     "execution_count": 10,
     "metadata": {},
     "output_type": "execute_result"
    }
   ],
   "source": [
    "# Train the Model\n",
    "model.fit(\n",
    "  train_data.values,\n",
    "  train_labels.values, \n",
    "  epochs=4, \n",
    "  batch_size=32, \n",
    "  validation_split=0.1\n",
    ")"
   ]
  },
  {
   "cell_type": "code",
   "execution_count": 11,
   "metadata": {},
   "outputs": [
    {
     "name": "stdout",
     "output_type": "stream",
     "text": [
      "980/980 [==============================] - 0s 73us/sample - loss: 1.0392 - acc: 0.0000e+00\n",
      "Predicted wine score: 6.255574\n",
      "Actual wine score: 6\n"
     ]
    }
   ],
   "source": [
    "# Evaluate the model\n",
    "model.evaluate(\n",
    "  test_data.values,\n",
    "  test_labels.values, \n",
    "  batch_size=32\n",
    ")\n",
    "\n",
    "test_prediction = model.predict(test_data.values[0:1])\n",
    "print('Predicted wine score:', test_prediction[0][0])\n",
    "print('Actual wine score:', test_labels.values[0:1][0])"
   ]
  },
  {
   "cell_type": "code",
   "execution_count": 14,
   "metadata": {},
   "outputs": [],
   "source": [
    "# Deploy Model to AI Platform\n",
    "\n",
    "GCP_PROJECT = 'western-emitter-267510'\n",
    "KERAS_MODEL_BUCKET = 'gs://1077410235121keras'\n",
    "KERAS_VERSION_NAME = 'v1'\n",
    "#!gsutil mb $KERAS_MODEL_BUCKET"
   ]
  },
  {
   "cell_type": "code",
   "execution_count": 16,
   "metadata": {},
   "outputs": [
    {
     "name": "stdout",
     "output_type": "stream",
     "text": [
      "WARNING:tensorflow:From /usr/local/lib/python3.5/dist-packages/tensorflow_core/python/ops/init_ops.py:97: calling GlorotUniform.__init__ (from tensorflow.python.ops.init_ops) with dtype is deprecated and will be removed in a future version.\n",
      "Instructions for updating:\n",
      "Call initializer instance with the dtype argument instead of passing it to the constructor\n",
      "WARNING:tensorflow:From /usr/local/lib/python3.5/dist-packages/tensorflow_core/python/ops/init_ops.py:97: calling Zeros.__init__ (from tensorflow.python.ops.init_ops) with dtype is deprecated and will be removed in a future version.\n",
      "Instructions for updating:\n",
      "Call initializer instance with the dtype argument instead of passing it to the constructor\n",
      "WARNING:tensorflow:From /usr/local/lib/python3.5/dist-packages/tensorflow_core/python/saved_model/signature_def_utils_impl.py:201: build_tensor_info (from tensorflow.python.saved_model.utils_impl) is deprecated and will be removed in a future version.\n",
      "Instructions for updating:\n",
      "This function will only be available through the v1 compatibility library as tf.compat.v1.saved_model.utils.build_tensor_info or tf.compat.v1.saved_model.build_tensor_info.\n",
      "INFO:tensorflow:Signatures INCLUDED in export for Classify: None\n",
      "INFO:tensorflow:Signatures INCLUDED in export for Predict: ['serving_default']\n",
      "INFO:tensorflow:Signatures INCLUDED in export for Regress: None\n",
      "INFO:tensorflow:Signatures INCLUDED in export for Eval: None\n",
      "INFO:tensorflow:Signatures INCLUDED in export for Train: None\n",
      "INFO:tensorflow:No assets to save.\n",
      "INFO:tensorflow:No assets to write.\n",
      "INFO:tensorflow:SavedModel written to: gs://1077410235121keras/keras_export/saved_model.pb\n"
     ]
    }
   ],
   "source": [
    "# Add the serving input layer below in order to serve our model on AI Platform\n",
    "class ServingInput(tf.keras.layers.Layer):\n",
    "  # the important detail in this boilerplate code is \"trainable=False\"\n",
    "  def __init__(self, name, dtype, batch_input_shape=None):\n",
    "    super(ServingInput, self).__init__(trainable=False, name=name, dtype=dtype, batch_input_shape=batch_input_shape)\n",
    "  def get_config(self):\n",
    "    return {'batch_input_shape': self._batch_input_shape, 'dtype': self.dtype, 'name': self.name }\n",
    "\n",
    "restored_model = model\n",
    "\n",
    "serving_model = tf.keras.Sequential()\n",
    "serving_model.add(ServingInput('serving', tf.float32, (None, input_size)))\n",
    "serving_model.add(restored_model)\n",
    "tf.contrib.saved_model.save_keras_model(serving_model, os.path.join(KERAS_MODEL_BUCKET, 'keras_export'))  # export the model to your GCS bucket\n",
    "export_path = KERAS_MODEL_BUCKET + '/keras_export'"
   ]
  },
  {
   "cell_type": "code",
   "execution_count": 17,
   "metadata": {},
   "outputs": [
    {
     "name": "stdout",
     "output_type": "stream",
     "text": [
      "Updated property [core/project].\n"
     ]
    }
   ],
   "source": [
    "!gcloud config set project $GCP_PROJECT"
   ]
  },
  {
   "cell_type": "code",
   "execution_count": 18,
   "metadata": {},
   "outputs": [
    {
     "name": "stdout",
     "output_type": "stream",
     "text": [
      "\u001b[1;33mWARNING:\u001b[0m `--regions` flag will soon be required. Please explicitly specify a region. Using [us-central1] by default.\n",
      "\u001b[1;31mERROR:\u001b[0m (gcloud.ai-platform.models.create) Resource in project [western-emitter-267510] is the subject of a conflict: Field: model.name Error: A model with the same name already exists.\n",
      "- '@type': type.googleapis.com/google.rpc.BadRequest\n",
      "  fieldViolations:\n",
      "  - description: A model with the same name already exists.\n",
      "    field: model.name\n",
      "\u001b[1;31mERROR:\u001b[0m (gcloud.beta.ai-platform.versions.create) ALREADY_EXISTS: Field: version.name Error: A version with the same name already exists.\n",
      "- '@type': type.googleapis.com/google.rpc.BadRequest\n",
      "  fieldViolations:\n",
      "  - description: A version with the same name already exists.\n",
      "    field: version.name\n"
     ]
    }
   ],
   "source": [
    "!gcloud ai-platform models create keras_wine\n",
    "\n",
    "!gcloud beta ai-platform versions create $KERAS_VERSION_NAME --model keras_wine \\\n",
    "--origin=$export_path \\\n",
    "--python-version=3.5 \\\n",
    "--runtime-version=1.14 \\\n",
    "--framework='TENSORFLOW'"
   ]
  },
  {
   "cell_type": "code",
   "execution_count": 19,
   "metadata": {},
   "outputs": [
    {
     "name": "stdout",
     "output_type": "stream",
     "text": [
      "Overwriting predictions.json\n"
     ]
    }
   ],
   "source": [
    "%%writefile predictions.json\n",
    "[7.8, 0.21, 0.49, 1.2, 0.036, 20.0, 99.0, 0.99, 3.05, 0.28, 12.1]"
   ]
  },
  {
   "cell_type": "code",
   "execution_count": 20,
   "metadata": {},
   "outputs": [
    {
     "name": "stdout",
     "output_type": "stream",
     "text": [
      "[6.229109287261963]\n"
     ]
    }
   ],
   "source": [
    "prediction = !gcloud ai-platform predict --model=keras_wine --json-instances=predictions.json --version=$KERAS_VERSION_NAME\n",
    "print(prediction[1])"
   ]
  },
  {
   "cell_type": "code",
   "execution_count": 21,
   "metadata": {},
   "outputs": [
    {
     "name": "stdout",
     "output_type": "stream",
     "text": [
      "SEQUENTIAL\n",
      "[6.229109287261963]\n"
     ]
    }
   ],
   "source": [
    "!gcloud ai-platform predict --model=keras_wine --json-instances=predictions.json --version=$KERAS_VERSION_NAME"
   ]
  },
  {
   "cell_type": "code",
   "execution_count": 22,
   "metadata": {},
   "outputs": [
    {
     "name": "stdout",
     "output_type": "stream",
     "text": [
      "Creating gs://1077410235121scikit/...\n",
      "ServiceException: 409 Bucket 1077410235121scikit already exists.\n"
     ]
    }
   ],
   "source": [
    "# Start the Scikit Learn Model work\n",
    "\n",
    "SKLEARN_VERSION_NAME = 'v1'\n",
    "SKLEARN_MODEL_BUCKET = 'gs://1077410235121scikit'\n",
    "!gsutil mb $SKLEARN_MODEL_BUCKET\n",
    "\n",
    "scikit_model = LinearRegression().fit(\n",
    "  train_data.values, \n",
    "  train_labels.values\n",
    ")\n",
    "\n",
    "pickle.dump(scikit_model, open('model.pkl', 'wb'))"
   ]
  },
  {
   "cell_type": "code",
   "execution_count": 23,
   "metadata": {},
   "outputs": [
    {
     "name": "stdout",
     "output_type": "stream",
     "text": [
      "Copying file://./model.pkl [Content-Type=application/octet-stream]...\n",
      "/ [1 files][  674.0 B/  674.0 B]                                                \n",
      "Operation completed over 1 objects/674.0 B.                                      \n"
     ]
    }
   ],
   "source": [
    "# Model deployment and testing\n",
    "!gsutil cp ./model.pkl $SKLEARN_MODEL_BUCKET/model.pkl\n",
    "\n",
    "#!gcloud ai-platform models create sklearn"
   ]
  },
  {
   "cell_type": "code",
   "execution_count": 24,
   "metadata": {},
   "outputs": [
    {
     "name": "stdout",
     "output_type": "stream",
     "text": [
      "\u001b[1;31mERROR:\u001b[0m (gcloud.beta.ai-platform.versions.create) ALREADY_EXISTS: Field: version.name Error: A version with the same name already exists.\n",
      "- '@type': type.googleapis.com/google.rpc.BadRequest\n",
      "  fieldViolations:\n",
      "  - description: A version with the same name already exists.\n",
      "    field: version.name\n"
     ]
    }
   ],
   "source": [
    "# !gcloud beta ai-platform versions create $SKLEARN_VERSION_NAME --model=sklearn \\\n",
    "# --origin=$SKLEARN_MODEL_BUCKET \\\n",
    "# --runtime-version=1.14 \\\n",
    "# --python-version=3.5 \\\n",
    "# --framework='SCIKIT_LEARN'"
   ]
  },
  {
   "cell_type": "code",
   "execution_count": 25,
   "metadata": {},
   "outputs": [
    {
     "name": "stdout",
     "output_type": "stream",
     "text": [
      "[6.319000502718211]\n"
     ]
    }
   ],
   "source": [
    "!gcloud ai-platform predict --model=sklearn --json-instances=predictions.json --version=$SKLEARN_VERSION_NAME"
   ]
  },
  {
   "cell_type": "code",
   "execution_count": 26,
   "metadata": {},
   "outputs": [],
   "source": [
    "test_examples = np.hstack((test_data[:200].values,test_labels[:200].values.reshape(-1,1)))"
   ]
  },
  {
   "cell_type": "code",
   "execution_count": 28,
   "metadata": {},
   "outputs": [
    {
     "data": {
      "text/html": [
       "<style>.container { width:100% !important; }</style>"
      ],
      "text/plain": [
       "<IPython.core.display.HTML object>"
      ]
     },
     "metadata": {},
     "output_type": "display_data"
    },
    {
     "data": {
      "application/vnd.jupyter.widget-view+json": {
       "model_id": "730851a248a44d9e8864980d35f67e4d",
       "version_major": 2,
       "version_minor": 0
      },
      "text/plain": [
       "WitWidget(config={'aip_batch_size': 500, 'compare_get_explanations': True, 'aip_service_name': 'ml', 'model_na…"
      ]
     },
     "metadata": {},
     "output_type": "display_data"
    }
   ],
   "source": [
    "config_builder = (WitConfigBuilder(test_examples.tolist(), data.columns.tolist() + ['quality'])\n",
    "  .set_ai_platform_model(GCP_PROJECT, 'keras_wine', KERAS_VERSION_NAME).set_predict_output_tensor('sequential').set_uses_predict_api(True)\n",
    "  .set_target_feature('quality')\n",
    "  .set_model_type('regression')\n",
    "  .set_compare_ai_platform_model(GCP_PROJECT, 'sklearn', SKLEARN_VERSION_NAME))\n",
    "WitWidget(config_builder, height=800)"
   ]
  },
  {
   "cell_type": "code",
   "execution_count": null,
   "metadata": {},
   "outputs": [],
   "source": []
  }
 ],
 "metadata": {
  "kernelspec": {
   "display_name": "Python 3",
   "language": "python",
   "name": "python3"
  },
  "language_info": {
   "codemirror_mode": {
    "name": "ipython",
    "version": 3
   },
   "file_extension": ".py",
   "mimetype": "text/x-python",
   "name": "python",
   "nbconvert_exporter": "python",
   "pygments_lexer": "ipython3",
   "version": "3.5.3"
  }
 },
 "nbformat": 4,
 "nbformat_minor": 4
}
